{
 "cells": [
  {
   "cell_type": "markdown",
   "id": "a2e8f08d",
   "metadata": {},
   "source": [
    "# Kontur Kavramına Giriş"
   ]
  },
  {
   "cell_type": "markdown",
   "id": "290b442b",
   "metadata": {},
   "source": [
    "Temel Kontur Tespit Algoritması\n",
    "\n",
    "Yüksek doğruluklu kontur çizimleri için binary resimler kullanmalıyız: cv2.cvtColor(), cv2.threshold()\n",
    "\n",
    "Kontur koordinatlarının tespiti: cv2.findContours\n",
    "\n",
    "Bulunan noktaların çizimi : cv2.drawConturs()"
   ]
  },
  {
   "cell_type": "markdown",
   "id": "3f9abf2e",
   "metadata": {},
   "source": [
    "Convex: dışbükey Concave:içbükey"
   ]
  },
  {
   "cell_type": "markdown",
   "id": "51531c40",
   "metadata": {},
   "source": [
    "Konturlar, aynı renk veya yoğunluğa sahip tüm sürekli noktaları (sınır boyunca) birleştiren bir eğri olarak basitçe açıklanabilir. Konturlar, şekil analizi ve nesne algılama ve tanıma için yararlı bir araçtır."
   ]
  },
  {
   "cell_type": "markdown",
   "id": "ed57c26f",
   "metadata": {},
   "source": [
    "cv.CHAIN_APPROX_NONE öğesini geçerseniz , tüm sınır noktaları saklanır. Ama aslında tüm noktalara ihtiyacımız var mı? Örneğin, düz bir çizginin konturunu buldunuz. O çizgiyi temsil etmek için çizgideki tüm noktalara ihtiyacınız var mı? Hayır, o çizginin sadece iki uç noktasına ihtiyacımız var. cv.CHAIN_APPROX_SIMPLE bunu yapar. Tüm gereksiz noktaları kaldırır ve konturu sıkıştırarak hafızadan tasarruf sağlar."
   ]
  },
  {
   "cell_type": "markdown",
   "id": "a55e075f",
   "metadata": {},
   "source": [
    "convex hull : dışbükey örtü ,  convexity defects: dışbükey kusurlar"
   ]
  },
  {
   "cell_type": "markdown",
   "id": "9d90d572",
   "metadata": {},
   "source": [
    "# Kontur"
   ]
  },
  {
   "cell_type": "code",
   "execution_count": null,
   "id": "9b21a734",
   "metadata": {},
   "outputs": [],
   "source": [
    "import cv2\n",
    "\n",
    "img = cv2.imread(\"contour1.png\")\n",
    "gray = cv2.cvtColor(img,cv2.COLOR_BGR2GRAY) #resim ve resmi gri formata çevir\n",
    "#ret,thres de _, thresh yerine kullanılıyor\n",
    "_,thresh = cv2.threshold(gray,127,255,cv2.THRESH_BINARY) #renk kanalı, min değer, max değer,cv2.THRESH_BINARY(ya siyah ya beyaz olacak)\n",
    "contours,_=cv2.findContours(thresh,cv2.RETR_TREE,cv2.CHAIN_APPROX_SIMPLE) #thres değişkeni,cv2.RETR_TREE,cv2.CHAIN_APPROX_SIMPLE\n",
    "#cv2.RETR_TREE,cv2.CHAIN_APPROX_SIMPLE bunlar genelde default olarak kullanılıyor daha doğru hale gelmesi için\n",
    "print(contours)"
   ]
  },
  {
   "cell_type": "code",
   "execution_count": null,
   "id": "49cd926a",
   "metadata": {},
   "outputs": [],
   "source": [
    "import cv2\n",
    "\n",
    "img = cv2.imread(\"contour1.png\")\n",
    "gray = cv2.cvtColor(img,cv2.COLOR_BGR2GRAY)\n",
    "\n",
    "_,thresh = cv2.threshold(gray,127,255,cv2.THRESH_BINARY)\n",
    "contours,_=cv2.findContours(thresh,cv2.RETR_TREE,cv2.CHAIN_APPROX_SIMPLE)\n",
    "\n",
    "cv2.drawContours(img,contours,-1,(0,0,255),3) #resim, koordinatlar, -1, renkler, kalınlık\n",
    "#cv2.drawContours(img,contours,0,(0,0,255),3) #resim, koordinatlar, 0, renkler, kalınlık -> sadece dışarıyı çizmesini sağlıyor\n",
    "\n",
    "cv2.imshow(\"contour\",img) #pencere adı,img\n",
    "cv2.waitKey(0)\n",
    "cv2.destroyAllWindows()"
   ]
  },
  {
   "cell_type": "markdown",
   "id": "0ca0c4b9",
   "metadata": {},
   "source": [
    "# Nesnelerin İzini Sürme"
   ]
  },
  {
   "cell_type": "code",
   "execution_count": 1,
   "id": "84691a69",
   "metadata": {},
   "outputs": [],
   "source": [
    "import cv2\n",
    "import numpy as np\n",
    "\n",
    "cap = cv2.VideoCapture(\"dog.mp4\") #yakalamak ve dosyanın konumu\n",
    "\n",
    "while 1:\n",
    "\n",
    "    _,frame = cap.read() #frame olarak çek\n",
    "    hsv = cv2.cvtColor(frame,cv2.COLOR_BGR2HSV) #rgb'den hsv'ye çeviriyorum\n",
    "    sensitivity = 15\n",
    "    #köpek beyaz olduğu ve beyaz etrafta olmadığından beyazı ara\n",
    "    lower_white = np.array([0,0,255-sensitivity]) #renk aralığı ve hassasiyet -> alt beyaz değeri\n",
    "    upper_white = np.array([255,sensitivity,255]) #üst beyaz değeri\n",
    "    mask = cv2.inRange(hsv,lower_white,upper_white) #frame, hangi değer aralıklarında olduğu -> maske uygula\n",
    "    res = cv2.bitwise_and(frame,frame,mask=mask) # frame frame gibi iki defa yazma nedeni bitwise özel bir fonk oluşu video için 2 defa yazıyoruz\n",
    "    \n",
    "    cv2.imshow(\"frame\",frame)\n",
    "    cv2.imshow(\"mask\",mask)\n",
    "    cv2.imshow(\"result\",res)\n",
    "    \n",
    "    k = cv2.waitKey(5) & 0xFF  #esc ye basınca videoyu kır\n",
    "    if k == 27:\n",
    "        break\n",
    "\n",
    "cv2.destroyAllWindows()"
   ]
  },
  {
   "cell_type": "markdown",
   "id": "61a731d6",
   "metadata": {},
   "source": [
    "# Image Moments ve Geometri Merkezi (Centroid)"
   ]
  },
  {
   "cell_type": "code",
   "execution_count": null,
   "id": "1d1c5412",
   "metadata": {},
   "outputs": [],
   "source": [
    "import cv2\n",
    "\n",
    "img = cv2.imread('contour.png')\n",
    "gray = cv2.cvtColor(img,cv2.COLOR_BGR2GRAY)\n",
    "_,thresh = cv2.threshold(gray,127,255,cv2.THRESH_BINARY) #renk, min değer, max değer,cv2.THRESH_BINARY \n",
    "\n",
    "M = cv2.moments(thresh) #threshold kullanılan resim -> sözlük olarak tutuluyor -> key-value\n",
    "\n",
    "X = int(M[\"m10\"]/M[\"m00\"]) #ağırlık merkezinin x koordinatı = int formatı flooat vb. de çıkabilir o yüzden yazıyoruz-> m10'un değeri-value/ m00'ın değeri\n",
    "Y = int(M[\"m01\"]/M[\"m00\"])  #ağırlık merkezinin y koordinatı\n",
    "\n",
    "cv2.circle(img,(X,Y),5,(0,255,0),-1) #X,Y koordinatlarına çember çizme\n",
    "\n",
    "cv2.imshow(\"img\",img)\n",
    "cv2.waitKey(0)\n",
    "cv2.destroyAllWindows()\n"
   ]
  },
  {
   "cell_type": "markdown",
   "id": "42f15610",
   "metadata": {},
   "source": [
    "# Kontur Alanı ve Çevresi"
   ]
  },
  {
   "cell_type": "code",
   "execution_count": null,
   "id": "7e752d22",
   "metadata": {},
   "outputs": [],
   "source": [
    "import cv2\n",
    "\n",
    "img = cv2.imread(\"contour.png\")\n",
    "\n",
    "gray = cv2.cvtColor(img,cv2.COLOR_BGR2GRAY)\n",
    "ret, thresh = cv2.threshold(gray, 127, 255,cv2.THRESH_BINARY) #kanal, min değer,max değer, cv2.THRESH_BINARY\n",
    "contours,_ = cv2.findContours(thresh,cv2.RETR_TREE,cv2.CHAIN_APPROX_SIMPLE)\n",
    "\n",
    "cv2.imshow(\"original\",img)\n",
    "cv2.imshow(\"gray\",gray)\n",
    "cv2.imshow(\"thresh\",thresh)\n",
    "\n",
    "\n",
    "cv2.imshow('img',img)\n",
    "cv2.waitKey(0)\n",
    "cv2.destroyAllWindows()\n"
   ]
  },
  {
   "cell_type": "code",
   "execution_count": null,
   "id": "b1c3a709",
   "metadata": {},
   "outputs": [],
   "source": [
    "import cv2\n",
    "\n",
    "img = cv2.imread(\"contour.png\")\n",
    "\n",
    "gray = cv2.cvtColor(img,cv2.COLOR_BGR2GRAY)\n",
    "ret, thresh = cv2.threshold(gray, 127, 255,cv2.THRESH_BINARY) #kanal, min değer,max değer, cv2.THRESH_BINARY\n",
    "contours,_ = cv2.findContours(thresh,cv2.RETR_TREE,cv2.CHAIN_APPROX_SIMPLE)\n",
    "\n",
    "cnt = contours[0]\n",
    "area = cv2.contourArea(cnt) #contur area ile alan buluyoruz cnt'yi girdi olarak alıyor # alanı kontür kullanarak bulduk\n",
    "print(area)\n",
    "M = cv2.moments(cnt) # alanı moments kullanarak buldu\n",
    "print(M['m00'])\n",
    "\n",
    "perimeter = cv2.arcLength(cnt,True) # cnt, şeklin açık kapalılığının ifadesi\n",
    "print(perimeter)\n"
   ]
  },
  {
   "cell_type": "markdown",
   "id": "f5ff3fa3",
   "metadata": {},
   "source": [
    "# Convex Hull "
   ]
  },
  {
   "cell_type": "code",
   "execution_count": null,
   "id": "0453f5bd",
   "metadata": {},
   "outputs": [],
   "source": [
    "import cv2\n",
    "import numpy as np\n",
    "\n",
    "img = cv2.imread(\"map.jpg\")\n",
    "\n",
    "gray = cv2.cvtColor(img, cv2.COLOR_BGR2GRAY)\n",
    "blur = cv2.blur(gray,(3,3))\n",
    "ret,thresh = cv2.threshold(blur,40,255,cv2.THRESH_BINARY)\n",
    "\n",
    "cv2.imshow(\"original\",img)\n",
    "cv2.imshow(\"gray\",gray)\n",
    "cv2.imshow(\"blur\",blur)\n",
    "cv2.imshow(\"thresh\",thresh)\n",
    "\n",
    "cv2.waitKey(0)\n",
    "cv2.destroyAllWindows()"
   ]
  },
  {
   "cell_type": "code",
   "execution_count": null,
   "id": "9c938177",
   "metadata": {},
   "outputs": [],
   "source": [
    "import cv2\n",
    "import numpy as np\n",
    "\n",
    "img = cv2.imread(\"map.jpg\")\n",
    "\n",
    "gray = cv2.cvtColor(img, cv2.COLOR_BGR2GRAY)\n",
    "blur = cv2.blur(gray,(3,3))\n",
    "ret,thresh = cv2.threshold(blur,40,255,cv2.THRESH_BINARY)\n",
    "\n",
    "contours,hierarchy = cv2.findContours(thresh,cv2.RETR_TREE,cv2.CHAIN_APPROX_SIMPLE) #conturları bul ve conturs değişkeninde sakla\n",
    "\n",
    "\n",
    "hull = [] # noktaları tutmak için boş dizi\n",
    "\n",
    "for i in range(len(contours)):\n",
    "    hull.append(cv2.convexHull(contours[i],False))\n",
    "\n",
    "bg = np.zeros((thresh.shape[0],thresh.shape[1],3),np.uint8) #siyah ekran oluşturma\n",
    "\n",
    "for i in range(len(contours)):   \n",
    "    cv2.drawContours(bg,contours,i,(255,0,0),3,8) #arka plan, contur, i, renk, kanlınlık,çizgi tipi, hiyararşi #haritanın dışını çizecek\n",
    "    cv2.drawContours(bg,hull,i,(0,255,0),1,8) #dış örtü\n",
    "\n",
    "\n",
    "cv2.imshow(\"Image\",bg)\n",
    "\n",
    "\n",
    "cv2.waitKey(0)\n",
    "cv2.destroyAllWindows()\n"
   ]
  },
  {
   "cell_type": "markdown",
   "id": "afcbd345",
   "metadata": {},
   "source": [
    "# Convex Hull -  Convexity Defects"
   ]
  },
  {
   "cell_type": "code",
   "execution_count": 2,
   "id": "2b3053f1",
   "metadata": {},
   "outputs": [],
   "source": [
    "import cv2\n",
    "import numpy as np\n",
    "\n",
    "img =cv2.imread(\"star.png\")\n",
    "\n",
    "gray = cv2.cvtColor(img,cv2.COLOR_BGR2GRAY)\n",
    "_,thresh = cv2.threshold(gray,127,255,0)\n",
    "\n",
    "contours,_ = cv2.findContours(thresh,2,1)\n",
    "cnt = contours[0]\n",
    "\n",
    "hull =cv2.convexHull(cnt, returnPoints = False)\n",
    "defects = cv2.convexityDefects(cnt,hull)\n",
    "\n",
    "for i in range(defects.shape[0]): #defects shepein boyutu dönsün\n",
    "    s, e, f, d = defects[i,0] #s ve e başlangıç bitiş noktaları f içe bükük kısımlar d mesafe\n",
    "    start = tuple(cnt[s][0])\n",
    "    end = tuple(cnt[e][0])\n",
    "    far = tuple(cnt[f][0])\n",
    "    cv2.line(img,start,end,[0,255,0],2)\n",
    "    cv2.circle(img,far,5,[0,255,0],-1)\n",
    "\n",
    "cv2.imshow(\"img\",img)\n",
    "cv2.waitKey(0)\n",
    "cv2.destroyAllWindows()"
   ]
  }
 ],
 "metadata": {
  "kernelspec": {
   "display_name": "Python 3 (ipykernel)",
   "language": "python",
   "name": "python3"
  },
  "language_info": {
   "codemirror_mode": {
    "name": "ipython",
    "version": 3
   },
   "file_extension": ".py",
   "mimetype": "text/x-python",
   "name": "python",
   "nbconvert_exporter": "python",
   "pygments_lexer": "ipython3",
   "version": "3.9.13"
  }
 },
 "nbformat": 4,
 "nbformat_minor": 5
}
