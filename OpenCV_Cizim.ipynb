{
 "cells": [
  {
   "cell_type": "markdown",
   "id": "ccc59ebd",
   "metadata": {},
   "source": [
    "# Çizim Fonksiyonlarına Giriş"
   ]
  },
  {
   "cell_type": "markdown",
   "id": "c9134ae4",
   "metadata": {},
   "source": [
    "NumPy =  Numerical Python => Sayısal Python\n",
    "Matematiksel işlemleri hızlı yapmada kullanılıyor, burada tual oluşturmada kullanıyoruz."
   ]
  },
  {
   "cell_type": "markdown",
   "id": "df734451",
   "metadata": {},
   "source": [
    "# Çizim Ekranı Oluşturma"
   ]
  },
  {
   "cell_type": "code",
   "execution_count": null,
   "id": "22b25794",
   "metadata": {},
   "outputs": [],
   "source": [
    "import cv2\n",
    "import numpy as np\n",
    "canvas= np.zeros((512,512,3),dtype=np.uint8) #zeros=siyah ekran bgr(0,0,0)=siyah bgr(255,255,255)=beyaz\n",
    "cv2.imshow(\"Canvas\",canvas)\n",
    "cv2.waitKey(0)\n",
    "cv2.destroyAllWindows()\n"
   ]
  },
  {
   "cell_type": "markdown",
   "id": "a43b6cf6",
   "metadata": {},
   "source": [
    "# Bilgisayar Bir Görüntüyü Nasıl Oluşturur?"
   ]
  },
  {
   "cell_type": "code",
   "execution_count": null,
   "id": "9e7e0aa9",
   "metadata": {},
   "outputs": [],
   "source": [
    "import cv2\n",
    "import numpy as np\n",
    "\n",
    "img=np.zeros((10,10,3),np.uint8) #uint8 => resimlerde kullandığım veri tipi #bgr 3 kanallı old. 3 siyah beyaz için tek kanal old. 3'ü siliyoruz\n",
    "\n",
    "img[0,0]=(255,255,255) #beyazdan mavinin tonlarına doğru ilk pixelden başlayarak boyadım\n",
    "img[0,1]=(255,255,200)\n",
    "img[0,2]=(255,255,150)\n",
    "img[0,3]=(255,255,15)\n",
    "\n",
    "\n",
    "img= cv2.resize(img,(1000,1000),interpolation=cv2.INTER_AREA)\n",
    "\n",
    "cv2.imshow(\"Canvas\",img)\n",
    "cv2.waitKey(0)\n",
    "cv2.destroyAllWindows()"
   ]
  },
  {
   "cell_type": "code",
   "execution_count": null,
   "id": "54adaa6b",
   "metadata": {},
   "outputs": [],
   "source": [
    "import cv2\n",
    "import numpy as np\n",
    "\n",
    "img=np.zeros((10,10),np.uint8)\n",
    "\n",
    "img[0,0]=255\n",
    "img[0,1]=200\n",
    "img[0,2]=100\n",
    "img[0,3]=15\n",
    "\n",
    "\n",
    "img= cv2.resize(img,(1000,1000),interpolation=cv2.INTER_AREA)\n",
    "\n",
    "cv2.imshow(\"Canvas\",img)\n",
    "cv2.waitKey(0)\n",
    "cv2.destroyAllWindows()"
   ]
  },
  {
   "cell_type": "markdown",
   "id": "877568f5",
   "metadata": {},
   "source": [
    "# Çizim Fonksiyonları"
   ]
  },
  {
   "cell_type": "code",
   "execution_count": null,
   "id": "83cb8cc7",
   "metadata": {},
   "outputs": [],
   "source": [
    "import cv2\n",
    "import numpy as np\n",
    "\n",
    "canvas = np.zeros((512,512,3), dtype=np.uint8) + 255 #matrislerde toplama mantığı tüm değerler 255(bayaz) oluyor, 100 yaparsak 100 oluyor(gri)\n",
    "#print(canvas)\n",
    "#line => düz çizgi çiziyorum thickness= kalınlık\n",
    "#başlangıç noktası, bitiş noktası,rengi,kalınlığı \n",
    "cv2.line(canvas, (50,50), (512,512), (255,0,0), thickness=5)\n",
    "cv2.line(canvas, (100,50), (200,250), (0,0,255), thickness=7)\n",
    "\n",
    "#dikdörtgen çizme\n",
    "#sol üst köşe, sağ alt köşe, renk, kalınlık\n",
    "#thickness=-1 olunca içi dolu\n",
    "cv2.rectangle(canvas, (20,20), (50,50), (0,255,0), thickness=-1)\n",
    "cv2.rectangle(canvas, (50,50), (150,150), (0,255,0), thickness=-1)\n",
    "\n",
    "#çember çizimi\n",
    "#merkez noktası, yarıçapı,rengi, kalınlığı\n",
    "cv2.circle(canvas, (250, 250), 100, (0,0,255), thickness=-1)\n",
    "\n",
    "#üçgen çizme => opencv bir fonk sağlamıyor kendimiz oluşturuyoruz\n",
    "p1 = (100, 200)\n",
    "p2 = (50, 50)\n",
    "p3 = (300, 100)\n",
    "\n",
    "cv2.line(canvas, p1, p2, (0,0,0), 4)\n",
    "cv2.line(canvas, p2, p3, (0,0,0), 4)\n",
    "cv2.line(canvas, p1, p3, (0,0,0), 4)\n",
    "\n",
    "#polylines => birden çok çizgiyi birleştirip şekil oluştururken kolaylık sağlıyor\n",
    "points = np.array([[[110, 200], [330, 200], [290, 220], [100,100]]], np.int32)\n",
    "#kapalı istiyorsam True, açık olabilecekse false\n",
    "cv2.polylines(canvas, [points], False, (0,0,100), 5)\n",
    "\n",
    "#elips oluşturma\n",
    "cv2.ellipse(canvas, (300, 300), (100, 50), 90, 0, 360, (255, 255, 0), -1)\n",
    "\n",
    "\n",
    "\n",
    "cv2.imshow(\"Canvas\", canvas)\n",
    "cv2.waitKey(0)\n",
    "cv2.destroyAllWindows()\n"
   ]
  },
  {
   "cell_type": "markdown",
   "id": "91721bea",
   "metadata": {},
   "source": [
    "# Yazı Yazdırma"
   ]
  },
  {
   "cell_type": "code",
   "execution_count": null,
   "id": "e307a92e",
   "metadata": {},
   "outputs": [],
   "source": [
    "import cv2\n",
    "import numpy as np\n",
    "\n",
    "canvas = np.zeros((512,512,3), dtype=np.uint8) + 255\n",
    "\n",
    "#yazı tipleri\n",
    "font1 = cv2.FONT_HERSHEY_SIMPLEX\n",
    "font2 = cv2.FONT_HERSHEY_COMPLEX\n",
    "font3 = cv2.FONT_HERSHEY_SCRIPT_COMPLEX\n",
    "\n",
    "#putText => yazı yazdırma fonksiyonu\n",
    "#başlangıç koordinatı, yazı tipi, font büyüklüğü, yazı rengi,yazı tipi \n",
    "cv2.putText(canvas, \"OpenCV\", (30, 100), font1, 2, (0,0,0), cv2.LINE_8) #varsayılan yazı tipi\n",
    "\n",
    "\n",
    "cv2.imshow(\"Canvas\", canvas)\n",
    "cv2.waitKey(0)\n",
    "cv2.destroyAllWindows()\n"
   ]
  },
  {
   "cell_type": "markdown",
   "id": "2aad2e18",
   "metadata": {},
   "source": [
    "# Trackbar Kavramına Giriş"
   ]
  },
  {
   "cell_type": "markdown",
   "id": "d8c20177",
   "metadata": {},
   "source": [
    "Trackbar rgb kızaklarıdır denebilir. Belirli oranlarda kaydırarak renkleri değiştirebiliriz.\n",
    "\n",
    "Bazen canny, treshold gibi fonk. da kullanarak optimum değeri bulabiliriz."
   ]
  },
  {
   "cell_type": "markdown",
   "id": "f4e1a581",
   "metadata": {},
   "source": [
    "# Trackbar Uygulaması"
   ]
  },
  {
   "cell_type": "code",
   "execution_count": null,
   "id": "7938d7ad",
   "metadata": {},
   "outputs": [],
   "source": [
    "import cv2\n",
    "import numpy as np\n",
    "\n",
    "def nothing(x): #boş fonk oluşturdum\n",
    "    pass\n",
    "\n",
    "img= np.zeros((512,512,3), np.uint8)\n",
    "cv2.namedWindow(\"image\") #pencere isimlendirme -> ad verme nedenimiz bu pencere içine trackbar oluşturacak olmamız\n",
    "\n",
    "#kanal, kullanılacak pencere, alacağı değer aralığı, boş fok.\n",
    "cv2.createTrackbar(\"R\", \"image\",0,255,nothing )\n",
    "cv2.createTrackbar(\"G\", \"image\",0,255,nothing )\n",
    "cv2.createTrackbar(\"B\", \"image\",0,255,nothing )\n",
    "switch = \"0: OFF, 1:ON\"\n",
    "cv2.createTrackbar(switch, \"image\", 0,1,nothing)\n",
    "\n",
    "while True:\n",
    "    cv2.imshow(\"image\", img)\n",
    "    if cv2.waitKey(1) & 0xFF == ord(\"q\"):\n",
    "        break\n",
    "        \n",
    "    r=cv2.getTrackbarPos(\"R\",\"image\")\n",
    "    g=cv2.getTrackbarPos(\"G\",\"image\")\n",
    "    b=cv2.getTrackbarPos(\"B\",\"image\")\n",
    "    s= cv2.getTrackbarPos(switch,\"image\")\n",
    "    \n",
    "    if s ==0:\n",
    "        img[:]==[0,0,0]\n",
    "    if s ==1:\n",
    "        img[:]= [b,g,r]\n",
    "    \n",
    "cv2.destroyAllWindows()\n"
   ]
  }
 ],
 "metadata": {
  "kernelspec": {
   "display_name": "Python 3 (ipykernel)",
   "language": "python",
   "name": "python3"
  },
  "language_info": {
   "codemirror_mode": {
    "name": "ipython",
    "version": 3
   },
   "file_extension": ".py",
   "mimetype": "text/x-python",
   "name": "python",
   "nbconvert_exporter": "python",
   "pygments_lexer": "ipython3",
   "version": "3.9.13"
  }
 },
 "nbformat": 4,
 "nbformat_minor": 5
}
