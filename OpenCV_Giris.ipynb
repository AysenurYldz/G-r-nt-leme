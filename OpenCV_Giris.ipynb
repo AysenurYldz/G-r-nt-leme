{
 "cells": [
  {
   "cell_type": "markdown",
   "id": "991ac140",
   "metadata": {},
   "source": [
    "# OpenCV Nedir?"
   ]
  },
  {
   "cell_type": "markdown",
   "id": "d26876c7",
   "metadata": {},
   "source": [
    "Bilgisayarlı görünün amacı : Görüntüleri anlamak ve amaçlarımız doğrultusunda yorumlamaktır."
   ]
  },
  {
   "cell_type": "markdown",
   "id": "e8730dd0",
   "metadata": {},
   "source": [
    "Örn -> Resimdeki yüzlerin algılanması resimdeki yüzlerin çerçeve içine alınması olabilir. Resimdeki yüzlerin kime ait olduğunu bulunması tanıma "
   ]
  },
  {
   "cell_type": "markdown",
   "id": "d012ff71",
   "metadata": {},
   "source": [
    "# Resimlere Giriş"
   ]
  },
  {
   "cell_type": "markdown",
   "id": "c9ad5991",
   "metadata": {},
   "source": [
    "Pixel = dijital görünütnün yapı taşı\n",
    "\n",
    "Bir görüntüde pixeller alt alta ve yan yana dizilmiştir ve her birinin bir rengi vardır.\n",
    "\n",
    "Renkler sayılarla ifade edilir. OpenCv fonk. ile pixellerin renk değerlerine erişebiliyoruz. Her pikselin bir adresi(koordinatı var)."
   ]
  },
  {
   "cell_type": "markdown",
   "id": "c53c0bd5",
   "metadata": {},
   "source": [
    "# Resim Okuma, Gösterme, Kaydetme"
   ]
  },
  {
   "cell_type": "code",
   "execution_count": 1,
   "id": "93606581",
   "metadata": {},
   "outputs": [],
   "source": [
    "import numpy\n",
    "import matplotlib\n",
    "import cv2"
   ]
  },
  {
   "cell_type": "markdown",
   "id": "19f87e4c",
   "metadata": {},
   "source": [
    "Resimleri okuma -> Görsel öğelerin matematiksel arka planı / pixeller ve renk değerlerini okuma\n",
    "\n",
    "Resmi kaydetme -> Pixel ve renk değerlerini kaydetme"
   ]
  },
  {
   "cell_type": "markdown",
   "id": "bd9eb778",
   "metadata": {},
   "source": [
    "Resmi okuma = cv2.imread()"
   ]
  },
  {
   "cell_type": "code",
   "execution_count": 2,
   "id": "7a06a885",
   "metadata": {},
   "outputs": [
    {
     "name": "stdout",
     "output_type": "stream",
     "text": [
      "[[[159 170 190]\n",
      "  [ 65  71  78]\n",
      "  [ 88  85  80]\n",
      "  ...\n",
      "  [203 202 211]\n",
      "  [202 201 210]\n",
      "  [202 199 208]]\n",
      "\n",
      " [[144 152 175]\n",
      "  [ 52  57  66]\n",
      "  [ 71  66  63]\n",
      "  ...\n",
      "  [206 205 214]\n",
      "  [205 204 213]\n",
      "  [204 203 212]]\n",
      "\n",
      " [[130 134 158]\n",
      "  [ 49  49  61]\n",
      "  [ 63  58  55]\n",
      "  ...\n",
      "  [201 201 207]\n",
      "  [201 201 207]\n",
      "  [202 200 206]]\n",
      "\n",
      " ...\n",
      "\n",
      " [[129 120 111]\n",
      "  [127 118 109]\n",
      "  [126 117 108]\n",
      "  ...\n",
      "  [ 84  79  80]\n",
      "  [ 87  82  83]\n",
      "  [ 87  82  83]]\n",
      "\n",
      " [[129 120 111]\n",
      "  [126 117 108]\n",
      "  [124 115 106]\n",
      "  ...\n",
      "  [ 84  79  80]\n",
      "  [ 80  75  76]\n",
      "  [ 86  81  82]]\n",
      "\n",
      " [[128 119 110]\n",
      "  [124 115 106]\n",
      "  [123 114 105]\n",
      "  ...\n",
      "  [ 85  80  81]\n",
      "  [ 81  76  77]\n",
      "  [ 87  82  83]]]\n"
     ]
    }
   ],
   "source": [
    "img = cv2.imread(\"klon.jpg\")\n",
    "print(img)"
   ]
  },
  {
   "cell_type": "markdown",
   "id": "0722df33",
   "metadata": {},
   "source": [
    "Resimleri gösterme = cv2.imshow()\n",
    "Resimleri kaydetme = cv2.imwrite()"
   ]
  },
  {
   "cell_type": "code",
   "execution_count": 3,
   "id": "24cee155",
   "metadata": {},
   "outputs": [],
   "source": [
    "cv2.namedWindow(\"image\", cv2.WINDOW_NORMAL) #resmin boyutunda değişiklik yapabilmemizi sağlıyor\n",
    "cv2.imshow(\"image\", img) #argümanlar:  adı, resmin tutulduğu değişken \n",
    "cv2.imwrite(\"kolon1.jpg\",img)\n",
    "cv2.waitKey(0) #waitKey kullanmazsam resim anlık gelip gidecek ekranda göremeyeceğiz\n",
    "cv2.destroyAllWindows()"
   ]
  },
  {
   "cell_type": "code",
   "execution_count": 4,
   "id": "55cc68b0",
   "metadata": {},
   "outputs": [],
   "source": [
    "#resmin kod klasöründe bulunmama durumu için:\n",
    "#img = cv2.imread(\"C:\\\\Users\\\\aysen\\\\Desktop\\\\klon.jpg\")\n",
    "#cv2.namedWindow(\"image\", cv2.WINDOW_NORMAL)\n",
    "#cv2.imshow(\"image\", img)\n",
    "#cv2.imwrite(\"C:\\\\Users\\\\aysen\\\\Desktop\\\\klon1.jpg\",img)\n",
    "#cv2.waitKey(0)\n",
    "#cv2.destroyAllWindows()"
   ]
  },
  {
   "cell_type": "markdown",
   "id": "e3436ecb",
   "metadata": {},
   "source": [
    "# Pencereyi Yeniden Boyutlandırma Uygulaması"
   ]
  },
  {
   "cell_type": "markdown",
   "id": "1d757784",
   "metadata": {},
   "source": [
    "yeniden boyutlandırma = cv2.resize()"
   ]
  },
  {
   "cell_type": "code",
   "execution_count": 5,
   "id": "24ffd9ce",
   "metadata": {},
   "outputs": [],
   "source": [
    "import cv2"
   ]
  },
  {
   "cell_type": "code",
   "execution_count": 6,
   "id": "db6e58c8",
   "metadata": {},
   "outputs": [],
   "source": [
    "img = cv2.imread(\"klon.jpg\")\n",
    "img= cv2.resize(img,(200,400))\n",
    "cv2.imshow(\"klon\", img) \n",
    "cv2.waitKey(0)\n",
    "cv2.destroyAllWindows()"
   ]
  },
  {
   "cell_type": "markdown",
   "id": "06662bdd",
   "metadata": {},
   "source": [
    "# Aspect Ratio (En Boy Oranı) Uygulaması"
   ]
  },
  {
   "cell_type": "code",
   "execution_count": 7,
   "id": "f042621d",
   "metadata": {},
   "outputs": [],
   "source": [
    "import cv2\n",
    "def resizewithAspectRatio (img, width =None, height=None, inter= cv2.INTER_AREA):\n",
    "    \n",
    "    dimension = None\n",
    "    (h,w)= img.shape[:2]\n",
    "    \n",
    "    if width is None and height is None:\n",
    "        return img\n",
    "\n",
    "    if width is None:\n",
    "        r = height / float(h)\n",
    "        dimension = (int(w*r), height)\n",
    "\n",
    "    else:\n",
    "        r = width / float(w)\n",
    "        dimension = (width, int(h*r))\n",
    "\n",
    "    return cv2.resize(img, dimension, interpolation = inter)"
   ]
  },
  {
   "cell_type": "code",
   "execution_count": 8,
   "id": "fe995010",
   "metadata": {},
   "outputs": [],
   "source": [
    "img= cv2.imread(\"klon.jpg\")\n",
    "img1 =resizewithAspectRatio (img, width =None, height=600, inter= cv2.INTER_AREA) "
   ]
  },
  {
   "cell_type": "code",
   "execution_count": 9,
   "id": "20be0842",
   "metadata": {},
   "outputs": [],
   "source": [
    "cv2.imshow(\"Orijinal\",img)\n",
    "cv2.imshow(\"Resized\",img1)\n",
    "cv2.waitKey(0)\n",
    "cv2.destroyAllWindows()\n"
   ]
  },
  {
   "cell_type": "markdown",
   "id": "abd33b38",
   "metadata": {},
   "source": [
    "# Videolara Giriş"
   ]
  },
  {
   "cell_type": "markdown",
   "id": "e0ac22cc",
   "metadata": {},
   "source": [
    "Pixeller resimlerin, kareler(frame) ise videoların yapı taşıdır. Her bir frame aslında bir resimdir ve framelerin arka arkaya gelmesi ile video oluşur."
   ]
  },
  {
   "cell_type": "markdown",
   "id": "1c215e7d",
   "metadata": {},
   "source": [
    "# Video Okuma ve Gösterme"
   ]
  },
  {
   "cell_type": "code",
   "execution_count": 10,
   "id": "91a169cd",
   "metadata": {},
   "outputs": [],
   "source": [
    "import cv2"
   ]
  },
  {
   "cell_type": "code",
   "execution_count": 11,
   "id": "71eda2fc",
   "metadata": {},
   "outputs": [],
   "source": [
    "# cap değişkeni kullanıyoruz - capture(video yakalama) anlamında geleneksel bir kullanım\n",
    "cap = cv2.VideoCapture(0) #kameradan okuyacaksak 0 diğer bağlı kamera vb. kullanacaksak sırasıyla 1-2 değişkenlerini giriyoruz\n",
    "#bilgisayarımızda bulunan bir video kullanacaksak o videonun adresini giriyoruz.\n",
    "while True:\n",
    "    ret, frame = cap.read()\n",
    "    frame=cv2.flip(frame,1) #y'ye göre tersini aldım-aynaladım\n",
    "    cv2.imshow(\"Webcam\",frame)\n",
    "    if cv2.waitKey(1) == ord(\"q\"): #klavyeden q ya basınca ekranı kapat\n",
    "        break\n",
    "    \n",
    "cap.release() #cap relase ile işlemi kapatıyoruz, kapatmadan başka işlem yapamam\n",
    "cv2.destroyAllWindows()"
   ]
  },
  {
   "cell_type": "code",
   "execution_count": 12,
   "id": "8b55a595",
   "metadata": {},
   "outputs": [],
   "source": [
    "cap = cv2.VideoCapture(\"antalya.mp4\")\n",
    "while True:\n",
    "    ret, frame = cap.read()\n",
    "    if ret == False:\n",
    "        break\n",
    "    frame=cv2.flip(frame,1) #y'ye göre tersini aldım-aynaladım\n",
    "    cv2.imshow(\"Antalya\",frame)\n",
    "    key=cv2.waitKey(1) #o yaparsam tek bir frame göreceğim\n",
    "    if key == ord(\"q\"): #klavyeden q ya basınca ekranı kapat\n",
    "        break\n",
    "    \n",
    "cap.release() #cap relase ile işlemi kapatıyoruz, kapatmadan başka işlem yapamam\n",
    "cv2.destroyAllWindows()"
   ]
  },
  {
   "cell_type": "markdown",
   "id": "d4a12779",
   "metadata": {},
   "source": [
    "# Video Kaydetme"
   ]
  },
  {
   "cell_type": "code",
   "execution_count": 13,
   "id": "93abfacd",
   "metadata": {},
   "outputs": [],
   "source": [
    "import cv2\n",
    "\n",
    "cap = cv2.VideoCapture(0, cv2.CAP_DSHOW)\n",
    "\n",
    "fileName = \"GoruntuIsleme\\webcam.avi\"\n",
    "codec = cv2.VideoWriter_fourcc('W', 'M', 'V', '2') # codec algoritmalerı tanıyor - ses ve görüntü birleştrmede algoritmalar kullanıyorun\n",
    "#fourcc = medya verilerindeki codecleri 4 karakter ile tanımlarlar\n",
    "#girilen değerler video uzantısı ile ilgili\n",
    "frameRate = 30 #frame oranı\n",
    "resolution = (640, 480) #çözünürlük\n",
    "\n",
    "videoFileOutput = cv2.VideoWriter(fileName, codec, frameRate, resolution) #okunan frameleri bu değişkene yazıp dosyalıyorum\n",
    "\n",
    "while True:\n",
    "    ret, frame = cap.read()\n",
    "    frame = cv2.flip(frame,1)\n",
    "    videoFileOutput.write(frame)\n",
    "\n",
    "    cv2.imshow(\"Webcam Live\", frame)\n",
    "    if cv2.waitKey(1) & 0xFF == ord(\"q\"):\n",
    "        break\n",
    "\n",
    "videoFileOutput.release()\n",
    "cap.release()\n",
    "cv2.destroyAllWindows()"
   ]
  },
  {
   "cell_type": "markdown",
   "id": "e22cbf66",
   "metadata": {},
   "source": [
    "# Android Kamera Kullanımı"
   ]
  },
  {
   "cell_type": "code",
   "execution_count": 14,
   "id": "4292c5c3",
   "metadata": {},
   "outputs": [],
   "source": [
    "#IP Webcam indirmemiz gerekiyor telefona\n",
    "import cv2\n",
    "import numpy as np\n",
    "import requests"
   ]
  },
  {
   "cell_type": "code",
   "execution_count": null,
   "id": "2b98abf5",
   "metadata": {},
   "outputs": [],
   "source": [
    "url= \"http:// url //shot.jpg\"\n",
    "while True:\n",
    "    img_resp = request().get(url)\n",
    "    img_arr = np.array(bytearray(img_resp.content), dtype=np.uint8)\n",
    "    img = cv2.imdecode(img_arr,cv2.IMREAD_COLOR)\n",
    "    img= cv2.resize(img,(640,480))\n",
    "    \n",
    "    cv2.imshow(\"Android Kamera\", img)\n",
    "    \n",
    "    if cv2.waitKey(1)==27: #Resimde 0 veideoda 1 kullanıyoruz\n",
    "        break\n",
    "        \n",
    "cv2.destroyAllWindows()"
   ]
  }
 ],
 "metadata": {
  "kernelspec": {
   "display_name": "Python 3 (ipykernel)",
   "language": "python",
   "name": "python3"
  },
  "language_info": {
   "codemirror_mode": {
    "name": "ipython",
    "version": 3
   },
   "file_extension": ".py",
   "mimetype": "text/x-python",
   "name": "python",
   "nbconvert_exporter": "python",
   "pygments_lexer": "ipython3",
   "version": "3.9.13"
  }
 },
 "nbformat": 4,
 "nbformat_minor": 5
}
