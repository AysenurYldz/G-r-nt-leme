{
 "cells": [
  {
   "cell_type": "markdown",
   "id": "d41a73a1",
   "metadata": {},
   "source": [
    "# Pixeller"
   ]
  },
  {
   "cell_type": "code",
   "execution_count": null,
   "id": "daa5a841",
   "metadata": {},
   "outputs": [],
   "source": [
    "import cv2\n",
    "import numpy as np\n",
    "img= cv2.imread(\"klon.jpg\")\n",
    "\n",
    "dimension = img.shape\n",
    "print(dimension)\n",
    "\n",
    "color= img[420,500]\n",
    "print(\"BGR:\", color)\n",
    "\n",
    "blue= img[420,500,0]\n",
    "print(\"blue:\" ,blue)\n",
    "\n",
    "green = img[420,500,1]\n",
    "print(\"green:\", green)\n",
    "\n",
    "red= img[420,500,2]\n",
    "print(\"red:\", red)\n",
    "\n",
    "img[420,500,0]= 250 #mavideki değeri değiştirdim\n",
    "print(\"new blue:\", img[420,500,0])\n",
    "\n",
    "#değer değiştirmede item ve itemset fonk. kullanbiliyorum\n",
    "blue1= img.item(150,200,0)\n",
    "print(\"blue1\", blue1)\n",
    "\n",
    "img.itemset((150,200,0),172)\n",
    "print(\"new blue1:\", img[150,200,0])\n",
    "\n",
    "cv2.imshow(\"Klon_Asker\", img)\n",
    "cv2.waitKey(0)\n",
    "cv2.destroyAllWindows()"
   ]
  },
  {
   "cell_type": "markdown",
   "id": "cdca5bf9",
   "metadata": {},
   "source": [
    "#  ROI\n"
   ]
  },
  {
   "cell_type": "code",
   "execution_count": null,
   "id": "8cd13eb2",
   "metadata": {},
   "outputs": [],
   "source": [
    "# roi => region of interest => resimde ilgilendiğimiz alan\n",
    "\n",
    "import cv2\n",
    "\n",
    "img= cv2.imread(\"klon.jpg\")\n",
    "#print(img.shape[:2])\n",
    "\n",
    "roi= img[30:200, 200:400]\n",
    "\n",
    "cv2.imshow(\"Klon\", img)\n",
    "cv2.imshow(\"ROI\",roi)\n",
    "\n",
    "cv2.waitKey(0)\n",
    "cv2.destroyAllWindows()"
   ]
  },
  {
   "cell_type": "markdown",
   "id": "3ae9149e",
   "metadata": {},
   "source": [
    "# Görüntülerde Toplama İşlemi"
   ]
  },
  {
   "cell_type": "code",
   "execution_count": null,
   "id": "ed057db4",
   "metadata": {},
   "outputs": [],
   "source": [
    "#resimlerin boyutu aynı olmalı -> matrislerle toplama şartı\n",
    "\n",
    "import cv2\n",
    "import numpy as np\n",
    "\n",
    "circle = np.zeros((512,512,3),np.uint8)+255\n",
    "cv2.circle(circle, (256,256),60,(255,0,0),-1)\n",
    "\n",
    "rectangle = np.zeros((512,512,3),np.uint8)+255\n",
    "cv2.rectangle(rectangle, (150,150),(350,350),(0,0,255),-1)\n",
    "\n",
    "add=cv2.add(circle,rectangle)\n",
    "print(add[256,256])\n",
    "\n",
    "cv2.imshow(\"circle\", circle)\n",
    "cv2.imshow(\"rectangle\", rectangle)\n",
    "cv2.imshow(\"Add\",add)\n",
    "\n",
    "cv2.waitKey(0)\n",
    "cv2.destroyAllWindows()"
   ]
  },
  {
   "cell_type": "markdown",
   "id": "fed45ef7",
   "metadata": {},
   "source": [
    "# Görüntülerde Ağırlıklı Toplama İşlemi"
   ]
  },
  {
   "cell_type": "code",
   "execution_count": null,
   "id": "eff6b9eb",
   "metadata": {},
   "outputs": [],
   "source": [
    "#f(x,y) = x*a + y*b + c\n",
    "#resimler belirli yoğunluklarda birbirine ekliyoruz\n",
    "\n",
    "import cv2\n",
    "import numpy as np\n",
    "\n",
    "circle = np.zeros((512,512,3),np.uint8)+255\n",
    "cv2.circle(circle, (256,256),60,(255,0,0),-1)\n",
    "\n",
    "rectangle = np.zeros((512,512,3),np.uint8)+255\n",
    "cv2.rectangle(rectangle, (150,150),(350,350),(0,0,255),-1)\n",
    "\n",
    "dst=cv2.addWeighted(circle, 0.7, rectangle, 0.3 , 0) #0 sabit verdiğimiz c\n",
    " \n",
    "cv2.imshow(\"circle\", circle)\n",
    "cv2.imshow(\"rectangle\", rectangle)\n",
    "cv2.imshow(\"Dst\",dst)\n",
    "\n",
    "cv2.waitKey(0)\n",
    "cv2.destroyAllWindows()"
   ]
  },
  {
   "cell_type": "markdown",
   "id": "221c0437",
   "metadata": {},
   "source": [
    "# Renk Uzayı Nedir?, Görüntülerin Renk Uzayı Nasıl Değiştirilir?"
   ]
  },
  {
   "cell_type": "markdown",
   "id": "3c91cc8e",
   "metadata": {},
   "source": [
    "En önemli 3 renk uzayı:\n",
    "\n",
    "BGR -> temel uygulamalarda kullanıyoruz\n",
    "\n",
    "HSV-> hue, saturation, value -> renk, doygunluk, açıklık -> genelde mask uygularken kullanacağız\n",
    "\n",
    "RGB -> çok kullanmayacağız\n",
    "\n",
    "Gray Scale -> gri kanal"
   ]
  },
  {
   "cell_type": "code",
   "execution_count": null,
   "id": "13dc400d",
   "metadata": {},
   "outputs": [],
   "source": [
    "import cv2\n",
    "#renk uzayı değiştirme fonk_-> cv2.cvtColor(resim adı, cv2.COLOR_hangi uzaysa adı 2 hangi uzaya)\n",
    "img= cv2.imread(\"klon.jpg\")\n",
    "\n",
    "img1=cv2.cvtColor(img, cv2.COLOR_BGR2RGB)\n",
    "img2=cv2.cvtColor(img, cv2.COLOR_BGR2HSV)\n",
    "img3=cv2.cvtColor(img, cv2.COLOR_BGR2GRAY)\n",
    "\n",
    "cv2.imshow(\"klon bgr\",img)\n",
    "cv2.imshow(\"klon rgb\",img1)\n",
    "cv2.imshow(\"klon hsv\",img2)\n",
    "cv2.imshow(\"klon gray\",img3)\n",
    "\n",
    "\n",
    "cv2.waitKey(0)\n",
    "cv2.destroyAllWindows()\n"
   ]
  },
  {
   "cell_type": "markdown",
   "id": "bf345d0b",
   "metadata": {},
   "source": [
    "# Videoların Renk Uzayını Değiştirme\n"
   ]
  },
  {
   "cell_type": "code",
   "execution_count": null,
   "id": "eb87c78b",
   "metadata": {},
   "outputs": [],
   "source": [
    "import cv2\n",
    "\n",
    "cap= cv2.VideoCapture(\"1.mp4\")\n",
    "\n",
    "while True:\n",
    "    ret, frame= cap.read()\n",
    "    frame= cv2.cvtColor(frame, cv2.COLOR_BGR2GRAY)\n",
    "    if ret== False:\n",
    "        break\n",
    "    \n",
    "    cv2.imshow(\"Video\",frame)\n",
    "    if cv2.waitKey(30)& 0xFF == ord(\"q\"):\n",
    "        break\n",
    "        \n",
    "cap.release()\n",
    "cv2.destroyAllWindows()\n",
    "    "
   ]
  },
  {
   "cell_type": "markdown",
   "id": "cba4bf2a",
   "metadata": {},
   "source": [
    "# Smothing Images"
   ]
  },
  {
   "cell_type": "code",
   "execution_count": null,
   "id": "45a87b22",
   "metadata": {},
   "outputs": [],
   "source": [
    "#amaç gürültüleri azaltmak\n",
    "import cv2\n",
    "import numpy as np\n",
    "\n",
    "img_filter = cv2.imread(\"filter.png\")\n",
    "img_median = cv2.imread(\"median.png\")\n",
    "img_bilateral = cv2.imread(\"bilateral.png\")\n",
    "\n",
    "blur =cv2.blur(img_filter,(5,5)) # değeri değiştirerek yumuşamada oynama yapabiliriz\n",
    "blur_g=cv2.GaussianBlur(img_filter,(5,5),cv2.BORDER_DEFAULT)\n",
    "blur_m = cv2.medianBlur(img_median,5)\n",
    "blur_b = cv2.bilateralFilter(img_bilateral,9,95,95) #sayılar pozitif tam sayı olmalı\n",
    "\n",
    "cv2.imshow(\"original\",img_bilateral)\n",
    "cv2.imshow(\"blur_b\",blur_b)\n",
    "\n",
    "\n",
    "cv2.waitKey(0)\n",
    "cv2.destroyAllWindows()\n"
   ]
  },
  {
   "cell_type": "markdown",
   "id": "4982d66c",
   "metadata": {},
   "source": [
    "# Bitwise İşleçler (operators)"
   ]
  },
  {
   "cell_type": "code",
   "execution_count": null,
   "id": "30623bc8",
   "metadata": {},
   "outputs": [],
   "source": [
    "#resimleri üst üste getirme\n",
    "# 0 ve 1 leri karşılaştırarak birleştirme gerçekleştiriyor -> mantıksal operatörleri kullanıyoruz\n",
    "import cv2\n",
    "import numpy as np\n",
    "\n",
    "img1 = cv2.imread(\"bitwise_1.png\")\n",
    "img2 = cv2.imread(\"bitwise_2.png\")\n",
    "\n",
    "bit_and = cv2.bitwise_and(img2,img1)\n",
    "bit_or = cv2.bitwise_or(img2,img1)\n",
    "bit_xor = cv2.bitwise_xor(img2,img1)\n",
    "bit_not = cv2.bitwise_not(img1)\n",
    "bit_not2 = cv2.bitwise_not(img2)\n",
    "\n",
    "cv2.imshow(\"img1\",img2)\n",
    "cv2.imshow(\"bit_not\",bit_not2)\n",
    "\n",
    "\n",
    "cv2.waitKey(0)\n",
    "cv2.destroyAllWindows()\n"
   ]
  },
  {
   "cell_type": "markdown",
   "id": "910f026d",
   "metadata": {},
   "source": [
    "# Resim Dönüşüm Dizeyi (matris)\n"
   ]
  },
  {
   "cell_type": "code",
   "execution_count": null,
   "id": "4868c62d",
   "metadata": {},
   "outputs": [],
   "source": [
    "import cv2\n",
    "import numpy as np\n",
    "\n",
    "img = cv2.imread(\"helikopter.jpg\",0) #0 olduğuiçin gray scale\n",
    "row,col = img.shape #satır ve sütunu row ve col değişkenlerinde tuttum\n",
    "\n",
    "M= np.float32([[1,0,50],[0,1,200]]) #transformasyon dizeyi\n",
    "#1,0 x değeri 0,1 y değeri üçüncü değer ne kadar kaydıracağımız, değerler arttıkça açıklık artacak resim ve ekranın bitimi arasındaki siyah kısım\n",
    "\n",
    "dst = cv2.warpAffine(img,M,(row,col)) #bu fonk ile resimi istediğim kadar kaydırıyorum\n",
    "#warpAffine  -->> resim,hangi matris- hangi dizeye uygulayacağımız, sütun,satır\n",
    "cv2.imshow(\"dst\",dst)\n",
    "\n",
    "cv2.waitKey(0)\n",
    "cv2.destroyAllWindows()"
   ]
  },
  {
   "cell_type": "markdown",
   "id": "4e322327",
   "metadata": {},
   "source": [
    "# Resim Döndürme\n"
   ]
  },
  {
   "cell_type": "code",
   "execution_count": null,
   "id": "5dec29f3",
   "metadata": {},
   "outputs": [],
   "source": [
    "import cv2\n",
    "import numpy as np\n",
    "\n",
    "img = cv2.imread(\"helikopter.jpg\",0)\n",
    "row,col = img.shape\n",
    "\n",
    "M= cv2.getRotationMatrix2D((col/5,row/3),180,1) #2 boyutta yön değiştirme işlemi uygulanacak\n",
    "#sütun/5,satır/3, 180 derece döndür, ölçek 1-> birebir aynı şeyi göstersin\n",
    "dst = cv2.warpAffine(img,M,(col,row))\n",
    "#warpAffine  -->> resim,hangi matris- hangi dizeye uygulayacağımız, sütun,satır\n",
    "cv2.imshow(\"dst\",dst)\n",
    "\n",
    "cv2.waitKey(0)\n",
    "cv2.destroyAllWindows()"
   ]
  },
  {
   "cell_type": "markdown",
   "id": "69f4c933",
   "metadata": {},
   "source": [
    "# Thresholding"
   ]
  },
  {
   "cell_type": "markdown",
   "id": "9d406e90",
   "metadata": {},
   "source": [
    "Thresholding – Eşikleme\n",
    "\n",
    "Thresholding fonksiyonu ile istenilen görüntü, ikili (binary) görüntüye çevrilmektedir. İkili sistemde 0 – 1 yani siyah – beyaz görüntü demektir. Kullanmamızın amacı, görüntü üzerinde gürültüleri azaltmak, görüntüyü belirginleştirmek ve nesneleri algılamaktır. Fonksiyonda belirlenen eşik değerine ve tipine bağlı olarak, görüntüdeki pikselleri siyah, beyaz veya aynı kalacak şekilde işlenir.\n",
    "\n",
    "Fonksiyonumuza bakacak olursak;\n",
    "\n",
    "retval, dst = cv2.threshold ( src, thresh, maxval, type[, dst ] )\n",
    "\n",
    "\n",
    "Parametreler\n",
    "\n",
    "src\t= kaynak resim, gri tonlu resim\n",
    "\n",
    "dst\t= resim çıktısı\n",
    "\n",
    "thresh\t= eşik değeri\n",
    "\n",
    "maxval =\tthresholding tipiyle birlikte kullanılabilecek maksimum değer\n",
    "( THRESH_BINARY , THRESH_BINARY_INV için)\n",
    "\n",
    "type =\tthresholding ( eşikleme ) tipi"
   ]
  },
  {
   "cell_type": "markdown",
   "id": "48f82cfb",
   "metadata": {},
   "source": [
    "THRESH_BINARY\n",
    "\n",
    "Kaynak olarak girilen resimdeki piksel, eğer eşik değerinden büyükse maksimum (maxval) parametresinin değerine eşitlenir. Genelde maxval değeri 255 – beyaz olarak girilir.\n",
    "\n",
    "THRESH_BINARY_INV\n",
    "\n",
    "Kaynak olarak girilen resimdeki piksel, eğer eşik değerinden büyükse 0 (sıfır) değerine eşitlenir. Eğer büyük değilse maxval değerine eşitlenir. THRESH_BINARY tipinin tersi olarak işlem yapar.\n",
    "\n",
    "THRESH_TRUNC\n",
    "\n",
    "Kaynak olarak girilen resimdeki piksel, eğer eşik değerinden büyükse, eşik değeri olarak girilen değere eşitlenir, büyük değil ise pikselin değeri aynı kalır.\n",
    "\n",
    "THRESH_TOZERO\n",
    "\n",
    "Kaynak olarak girilen resimdeki piksel, eğer eşik değerinden büyükse piksel değeri aynı kalacak, büyük değilse 0 değerine eşit olacak.\n",
    "\n",
    "THRESH_TOZERO_INV \n",
    "\n",
    "Kaynak olarak girilen resimdeki piksel, eğer eşik değerinden büyükse 0 değerini alacak, büyük değil ise piksel değeri aynı kalacak.\n",
    "\n"
   ]
  },
  {
   "cell_type": "markdown",
   "id": "6b09365d",
   "metadata": {},
   "source": [
    "Diğer bir tür eşikleme türü ise adaptive thresholding. Farklı ortamlarda çekilmiş ve farklı ışık yoğunluğuna sahip görüntüleri normal thresholding ile eşikleyemediğimiz zaman ise adaptive türü devreye giriyor. cv2.adaptiveThreshold fonksiyonuyla bu işi gerçekleştireceğiz. Bu fonksiyon ise üç adet input parametresi ve bir adet output parametresi alır.\n",
    "\n",
    "Image thresholding için kullanılan adaptive metodlarının türlerine bakalım şimdi de;\n",
    "\n",
    "cv2.ADAPTIVE_THRESH_MEAN_C : Eşik değeri, o alanın çevresindeki değerlerin ortalamasıyla hesaplanarak bulunur ve işlem uygulanır.\n",
    "\n",
    "cv2.ADAPTIVE_THRESH_GAUSSIAN_C : Eşik değeri, o alanın çevresindeki değerlerin Gauss yöntemiyle ağırlıklı toplamlarının ortalaması hesaplanarak bulunur ve işlem uygulanır.\n",
    "\n",
    "Blok boyutu : Çevre alanının büyüklü\n",
    "\n",
    "c : Ortalamadan veya ağırlıklı ortalamadan çıkarılan sabite denir."
   ]
  },
  {
   "cell_type": "code",
   "execution_count": null,
   "id": "ce64701a",
   "metadata": {},
   "outputs": [],
   "source": [
    "import cv2\n",
    "import numpy as np\n",
    "from matplotlib import pyplot as plt\n",
    "\n",
    "img = cv2.imread(\"helikopter.jpg\",0) # 0 => gray scale\n",
    "\n",
    "#adaptiveThreshold(src, dst, maxValue, adaptiveMethod, thresholdType, blockSize, C)\n",
    "\n",
    "ret,th1 = cv2.threshold(img,150,200,cv2.THRESH_BINARY)\n",
    "#return,thresholding1 = cv2.threshold(resim, threhold aralığı(150-200 girdik))\n",
    "\n",
    "th2 = cv2.adaptiveThreshold(img,255,cv2.ADAPTIVE_THRESH_MEAN_C,cv2.THRESH_BINARY,21,2)\n",
    "#cv2.adaptiveThreshold(kullanacağımız resim,threshold değeri,cv2.ADAPTIVE_THRESH_MEAN_C,cv2.THRESH_BINARY,blockSize, C)\n",
    "\n",
    "th3 = cv2.adaptiveThreshold(img,255,cv2.ADAPTIVE_THRESH_GAUSSIAN_C,cv2.THRESH_BINARY,21,2)\n",
    "#cv2.adaptiveThreshold(kullanacağımız resim,threshold değeri,cv2.ADAPTIVE_THRESH_GAUSSIAN_C,cv2.THRESH_BINARY,blockSize, C)\n",
    "#bloksize tek sayı oluyor\n",
    "\n",
    "cv2.imshow(\"img-th1\",th1)\n",
    "cv2.imshow(\"img-th2\",th2)\n",
    "cv2.imshow(\"img-th3\",th3)\n",
    "\n",
    "cv2.waitKey(0)\n",
    "cv2.destroyAllWindows()"
   ]
  },
  {
   "cell_type": "markdown",
   "id": "41457524",
   "metadata": {},
   "source": [
    "# Morfolojik İşlemler"
   ]
  },
  {
   "cell_type": "markdown",
   "id": "a584e41b",
   "metadata": {},
   "source": [
    "Morfoloji şekil bilimidir, çalışılan görüntü üzerindeki şekillerin yorumlanması, analiz edilmesi, istenilen bilginin çıkartılması, inceltme, görüntü sıkıştırma, köşe analizi, bozuk görüntü onarma (eksik veya fazla piksellerin çıkarılması, eklenmesi), dokuların tespiti gibi işlemlerde sıklıkla başvurulmaktadır.\n",
    "\n",
    "Erosion (Aşındırma)= Erozyon işlemi ön taraftaki nesnenin sınırlarını aşındırmayı sağlar. OpenCV içerisinde bulunan “erode()” metodu ile erozyon işlemini gerçekleştiriyoruz. Bu metot parametre olarak; işlem yapılacak görüntü, görüntünün üzerinde hareket edecek kutucuk ve ”iterations” değerini alır. Bu “iterations” değeri, görüntüye kaç kez erozyon uygulanacağını belirler.\n",
    "\n",
    "Dilation (Yayma – Genişletme)= Genişleme erozyonun tam tersidir. Aynı şekilde görüntünün üzerinde kutucuk dolaştırarak sağlanır. Fakat beyaz yerleri inceltmek yerine kalınlaştırır. Bunu “dilate()” fonksiyonu ile sağlar. Bu fonksiyon parametre olarak; işlem yapılacak görüntü, görüntünün üzerinde hareket edecek kutucuk ve ”iterations” değerini alır. Bu “iterations” değeri, görüntüye kaç kez genişleme uygulanacağını belirler.\n",
    "\n",
    "Opening (Açınım)= Açılma işlemi, erozyon ve genişlemenin peş peşe kullanılmasıdır. Açılma işleminin yapılma sebebi, eğer görüntünün üzerinde gürültü varsa gürültünün giderilmesine faydalıdır. Öncelikle resimdeki beyaz yerleri incelttiğimiz için beyaz gürültüyü yok ederiz daha sonra da genişleterek görmek istediğimiz alanı eski haline geri getirmiş oluruz.\n",
    "\n",
    "Açılma yöntemini uygulamadan önce, öncelikle görüntümüzde gürültü olması gerekir.u işlem için “morphologyEx()” metodunu kullanıyoruz. Bu metot parametre olarak; işlem yapılacak görüntü, işlem türü ve kutucuğu alır. Görüntü matrisini float değerlere çevirmeliyiz. Çünkü görüntü ekledikten sonra gelen değerler tam sayı. OpenCV içerisinde bulunan “MORPH_OPEN” metodu açılmayı sağlayan işlem türüdür.\n",
    "\n",
    "Closing (Kapanım)= Kapatma yöntemi ise açmanın tam tersidir. Önce genişleme sonra erozyon yapılır. Ön plandaki nesnelerin içindeki küçük delikleri ve ya nesne üzerindeki küçük siyah noktaları kapatmak için kullanışlıdır.\n",
    "\n",
    "Kapatma işlemini uygulamak için de siyah gürültüye ihtiyaç duyuyoruz.Bu işlem için “morphologyEx()” metodunu kullanıyoruz. Bu metot parametre olarak; işlem yapılacak görüntü, işlem türü ve kutucuğu alır. Görüntü matrisini float değerlere çevirmeliyiz. Çünkü görüntü ekledikten sonra gelen değerler tam sayı. OpenCV içerisinde bulunan “MORPH_CLOSE” metodu kapatmayı sağlayan işlem türüdür.\n",
    "\n",
    "Morphological Gradient= Morfolojik gradyan, bir görüntünün genişlemesi ile erozyona uğraması arasındaki farktır. Bu sayede görüntünün kenarlarının bulunmasını sağlayabiliriz.\n",
    "\n",
    "Bu işlem için “morphologyEx()” metodunu kullanıyoruz. Bu metot parametre olarak; işlem yapılacak görüntü, işlem türü ve kutucuğu alır. OpenCV içerisinde bulunan “MORPH_GRADIENT” metodu gradyan oluşturmayı sağlayan işlem türüdür.\n",
    "\n",
    "Top Hat= Bu operatör giriş olarak verilen görüntüden, opening (açınım) operatörü uygulanmış halini çıkarır.\n",
    "\n",
    "Imgproc.morphologyEx(girisGoruntu, cikisGoruntu, Imgproc.MORPH_TOPHAT,Imgproc.getStructuringElement(Imgproc.MORPH_RECT, new Size(25,25)));\n"
   ]
  },
  {
   "cell_type": "code",
   "execution_count": null,
   "id": "ed5564e2",
   "metadata": {},
   "outputs": [],
   "source": [
    "#erezyonda beyaz kısımlar incelmiş oldu\n",
    "import cv2\n",
    "import numpy as np\n",
    "\n",
    "img = cv2.imread(\"helikopter.jpg\",0)\n",
    "\n",
    "kernel = np.ones((5,5),np.uint8)\n",
    "#5e 5lik 1lerden oluşan matris\n",
    "\n",
    "erosion= cv2.erode(img, kernel,iterations=5)\n",
    "#resim adı, kernel adlı tanımladığımız matris, iterasyon/tekrar sayısı\n",
    "\n",
    "cv2.imshow(\"img\",img)\n",
    "cv2.imshow(\"erosion\",erosion)\n",
    "\n",
    "cv2.waitKey(0)\n",
    "cv2.destroyAllWindows()\n"
   ]
  },
  {
   "cell_type": "code",
   "execution_count": null,
   "id": "d0f7c946",
   "metadata": {},
   "outputs": [],
   "source": [
    "#dilationda beyaz kısımlar kalınlaşmış oldu\n",
    "import cv2\n",
    "import numpy as np\n",
    "\n",
    "img = cv2.imread(\"helikopter.jpg\",0)\n",
    "\n",
    "kernel = np.ones((5,5),np.uint8)\n",
    "dilation = cv2.dilate(img,kernel,iterations=5)\n",
    "\n",
    "cv2.imshow(\"img\",img)\n",
    "cv2.imshow(\"dilation\",dilation)\n",
    "\n",
    "cv2.waitKey(0)\n",
    "cv2.destroyAllWindows()"
   ]
  },
  {
   "cell_type": "code",
   "execution_count": null,
   "id": "09d728a7",
   "metadata": {},
   "outputs": [],
   "source": [
    "#opening işlemi resmin üzerindeki bozulmayı- gürültüyü kaldırmaya yarıyor\n",
    "import cv2\n",
    "import numpy as np\n",
    "\n",
    "img = cv2.imread(\"helikopter.jpg\",0)\n",
    "\n",
    "kernel = np.ones((5,5),np.uint8)\n",
    "opening = cv2.morphologyEx(img,cv2.MORPH_OPEN,kernel)\n",
    "\n",
    "cv2.imshow(\"img\",img)\n",
    "cv2.imshow(\"opening\",opening)\n",
    "\n",
    "cv2.waitKey(0)\n",
    "cv2.destroyAllWindows()"
   ]
  },
  {
   "cell_type": "code",
   "execution_count": null,
   "id": "98cb9e4d",
   "metadata": {},
   "outputs": [],
   "source": [
    "#closing işlemi resmin içindeki bozulmayı- gürültüyü kaldırmaya yarıyor\n",
    "import cv2\n",
    "import numpy as np\n",
    "\n",
    "img = cv2.imread(\"helikopter.jpg\",0)\n",
    "\n",
    "kernel = np.ones((5,5),np.uint8)\n",
    "closing = cv2.morphologyEx(img,cv2.MORPH_CLOSE,kernel)\n",
    "\n",
    "cv2.imshow(\"img\",img)\n",
    "cv2.imshow(\"closing\",closing)\n",
    "\n",
    "cv2.waitKey(0)\n",
    "cv2.destroyAllWindows()"
   ]
  },
  {
   "cell_type": "code",
   "execution_count": null,
   "id": "660f815e",
   "metadata": {},
   "outputs": [],
   "source": [
    "#gradient işlemi resmin dışını çiziyor kalan yerleri siyah olarak bırakıyır\n",
    "import cv2\n",
    "import numpy as np\n",
    "\n",
    "img = cv2.imread(\"helikopter.jpg\",0)\n",
    "\n",
    "kernel = np.ones((5,5),np.uint8)\n",
    "gradient= cv2.morphologyEx(img,cv2.MORPH_GRADIENT,kernel)\n",
    "\n",
    "cv2.imshow(\"img\",img)\n",
    "cv2.imshow(\"gradient\",gradient)\n",
    "\n",
    "cv2.waitKey(0)\n",
    "cv2.destroyAllWindows()"
   ]
  },
  {
   "cell_type": "code",
   "execution_count": null,
   "id": "47483380",
   "metadata": {},
   "outputs": [],
   "source": [
    "#tophat işlemi giriş olarak verilen görüntüden, opening (açınım) operatörü uygulanmış halini çıkarır.\n",
    "import cv2\n",
    "import numpy as np\n",
    "\n",
    "img = cv2.imread(\"helikopter.jpg\",0)\n",
    "\n",
    "kernel = np.ones((5,5),np.uint8)\n",
    "tophat= cv2.morphologyEx(img,cv2.MORPH_TOPHAT,kernel)\n",
    "\n",
    "cv2.imshow(\"img\",img)\n",
    "cv2.imshow(\"tophat\",tophat)\n",
    "\n",
    "cv2.waitKey(0)\n",
    "cv2.destroyAllWindows()"
   ]
  },
  {
   "cell_type": "markdown",
   "id": "1eb98e7e",
   "metadata": {},
   "source": [
    "# Histogram"
   ]
  },
  {
   "cell_type": "markdown",
   "id": "91c9ba4e",
   "metadata": {},
   "source": [
    "Histogram => grafik olarak düşünülebilir. Bu grafik bize değer yoğunlukları hakkında bilgiler veriyor."
   ]
  },
  {
   "cell_type": "code",
   "execution_count": null,
   "id": "79b1c269",
   "metadata": {},
   "outputs": [],
   "source": [
    "import cv2\n",
    "import numpy as np\n",
    "from matplotlib import pyplot as plt \n",
    "\n",
    "img = cv2.imread(\"smile.jpg\")\n",
    "b,g,r = cv2.split(img)\n",
    "cv2.imshow(\"img\",img)\n",
    "#resmi tek satıra dökmede ravel() kullanılıyor\n",
    "plt.hist(b.ravel(),256,[0,256]) #ravel, kaç değer old.,değer aralığı\n",
    "plt.hist(g.ravel(),256,[0,256])\n",
    "\n",
    "plt.show()\n",
    "\n",
    "cv2.waitKey(0)\n",
    "cv2.destroyAllWindows()\n"
   ]
  },
  {
   "cell_type": "markdown",
   "id": "7c4026df",
   "metadata": {},
   "source": [
    "# Görüntüdeki Köşeleri Saptama (Shi-Tomasi Corner Detection Metos)"
   ]
  },
  {
   "cell_type": "code",
   "execution_count": null,
   "id": "87c95bee",
   "metadata": {},
   "outputs": [],
   "source": [
    "import cv2\n",
    "import numpy as np\n",
    "\n",
    "img = cv2.imread(\"text.png\")\n",
    "img1 = cv2.imread(\"contour.png\")\n",
    "\n",
    "gray = cv2.cvtColor(img1,cv2.COLOR_BGR2GRAY)\n",
    "\n",
    "gray = np.float32(gray) #float 32 formatı kabul ediliyor\n",
    "corners = cv2.goodFeaturesToTrack(gray,1000,0.01,10) # kanal, max köşe sayısı, kalite değeri, köşeler arası min uzaklık \n",
    "\n",
    "corners = np.int0(corners)\n",
    "\n",
    "for corner in corners:\n",
    "    x,y = corner.ravel() #corners içindeki değerleri tek satıra dökme\n",
    "    cv2.circle(img1,(x,y),3,(0,0,255),-1) #resim(merkez),radius, renk \n",
    "\n",
    "cv2.imshow(\"corner\",img1)\n",
    "\n",
    "cv2.waitKey(0)\n",
    "cv2.destroyAllWindows()\n"
   ]
  },
  {
   "cell_type": "markdown",
   "id": "20502a17",
   "metadata": {},
   "source": [
    "# Görüntüdeki Kenarları Saptama (Canny Edge Detection)"
   ]
  },
  {
   "cell_type": "markdown",
   "id": "3be784bb",
   "metadata": {},
   "source": [
    "cv2.Canny(input,minThreshold,maxThreshold) # resim, threshold aralığı"
   ]
  },
  {
   "cell_type": "code",
   "execution_count": null,
   "id": "33b1d2d4",
   "metadata": {},
   "outputs": [],
   "source": [
    "import cv2\n",
    "\n",
    "cap = cv2.VideoCapture(0)\n",
    "\n",
    "while 1:\n",
    "    ret,frame = cap.read()\n",
    "    frame = cv2.flip(frame,1) # y eksenine göre görüntüyü ters çeviriyor\n",
    "\n",
    "    edges = cv2.Canny(frame,100,200)\n",
    "\n",
    "    cv2.imshow(\"Frame\",frame)\n",
    "    cv2.imshow(\"Edges\",edges)\n",
    "\n",
    "    if cv2.waitKey(5) & 0xFF==ord('q'):\n",
    "        break\n",
    "\n",
    "cap.release()\n",
    "cv2.destroyAllWindows()\n",
    "    "
   ]
  }
 ],
 "metadata": {
  "kernelspec": {
   "display_name": "Python 3 (ipykernel)",
   "language": "python",
   "name": "python3"
  },
  "language_info": {
   "codemirror_mode": {
    "name": "ipython",
    "version": 3
   },
   "file_extension": ".py",
   "mimetype": "text/x-python",
   "name": "python",
   "nbconvert_exporter": "python",
   "pygments_lexer": "ipython3",
   "version": "3.9.13"
  }
 },
 "nbformat": 4,
 "nbformat_minor": 5
}
